{
 "cells": [
  {
   "cell_type": "code",
   "execution_count": 17,
   "metadata": {},
   "outputs": [],
   "source": [
    "import numpy as np\n",
    "import pandas as pd\n",
    "import tensorflow as tf\n",
    "import matplotlib.pyplot as plt\n",
    "import scipy.optimize as opt"
   ]
  },
  {
   "cell_type": "code",
   "execution_count": 31,
   "metadata": {},
   "outputs": [],
   "source": [
    "#import dataset\n",
    "mnist = tf.keras.datasets.mnist\n",
    "(x_tr, y_tr),(x_ts, y_ts) = mnist.load_data()"
   ]
  },
  {
   "cell_type": "code",
   "execution_count": 32,
   "metadata": {},
   "outputs": [
    {
     "data": {
      "image/png": "[encoded data removed]",
      "text/plain": [
       "<matplotlib.figure.Figure at 0x1a2c65be48>"
      ]
     },
     "execution_count": 32,
     "metadata": {},
     "output_type": "execute_result"
    },
    {
     "data": {
      "image/png": "[encoded data removed]",
      "text/plain": [
       "<matplotlib.figure.Figure at 0x1a2c65be48>"
      ]
     },
     "metadata": {},
     "output_type": "display_data"
    }
   ],
   "source": [
    "fig = plt.figure()\n",
    "for i in range(9):\n",
    "    plt.subplot(3,3,i+1)\n",
    "    plt.tight_layout()\n",
    "    plt.imshow(x_tr[i], cmap='gray', interpolation='none')\n",
    "    plt.title(\"Digit: {}\".format(y_tr[i]))\n",
    "    plt.xticks([])\n",
    "    plt.yticks([])\n",
    "fig"
   ]
  },
  {
   "cell_type": "code",
   "execution_count": 33,
   "metadata": {},
   "outputs": [
    {
     "name": "stdout",
     "output_type": "stream",
     "text": [
      "x_train shape (60000, 28, 28)\n",
      "y_train shape (60000,)\n",
      "x_test shape (10000, 28, 28)\n",
      "y_test shape (10000,)\n",
      "Train matrix shape (60000, 784)\n",
      "Test matrix shape (10000, 784)\n"
     ]
    }
   ],
   "source": [
    "# let's print the shape before we reshape and normalize\n",
    "print(\"x_train shape\", x_tr.shape)\n",
    "print(\"y_train shape\", y_tr.shape)\n",
    "print(\"x_test shape\", x_ts.shape)\n",
    "print(\"y_test shape\", y_ts.shape)\n",
    "\n",
    "# building the input vector from the 28x28 pixels\n",
    "x_tr = x_tr.reshape(60000, 784)\n",
    "x_ts = x_ts.reshape(10000, 784)\n",
    "x_tr = x_tr.astype('float32')\n",
    "x_ts = x_ts.astype('float32')\n",
    "\n",
    "# normalizing the data to help with the training\n",
    "x_tr /= 255\n",
    "x_ts /= 255\n",
    "\n",
    "# print the final input shape ready for training\n",
    "print(\"Train matrix shape\", x_tr.shape)\n",
    "print(\"Test matrix shape\", x_ts.shape)"
   ]
  },
  {
   "cell_type": "code",
   "execution_count": 34,
   "metadata": {},
   "outputs": [],
   "source": [
    "def sigmoid(z):\n",
    "    return 1/(1+np.exp(-z))"
   ]
  },
  {
   "cell_type": "code",
   "execution_count": 35,
   "metadata": {},
   "outputs": [],
   "source": [
    "def costFunction(theta, x_tr, y_tr, lmbda):\n",
    "    m = len(y_tr)\n",
    "    temp1 = np.multiply(y_tr, np.log(sigmoid(np.dot(x_tr, theta))))\n",
    "    temp2 = np.multiply(1-y_tr, np.log(1-sigmoid(np.dot(x_tr, theta))))\n",
    "    return np.sum(temp1 + temp2) / (-m) + np.sum(theta[1:]**2) * lmbda / (2*m)"
   ]
  },
  {
   "cell_type": "code",
   "execution_count": 36,
   "metadata": {},
   "outputs": [],
   "source": [
    "def gradDescent(theta, x_tr, y_tr, lmbda):\n",
    "    m = len(y_tr)\n",
    "    temp = sigmoid(np.dot(x_tr, theta)) - y_tr\n",
    "    temp = np.dot(temp.T, x_tr).T / m + theta * lmbda / m\n",
    "    temp[0] = temp[0] - theta[0] * lmbda / m\n",
    "    return temp"
   ]
  },
  {
   "cell_type": "code",
   "execution_count": 37,
   "metadata": {},
   "outputs": [],
   "source": [
    "m = len(y_tr)\n",
    "ones = np.ones((m,1))\n",
    "x_tr = np.hstack((ones, x_tr)) #add the intercept\n",
    "(m,n) = x_tr.shape"
   ]
  },
  {
   "cell_type": "code",
   "execution_count": 38,
   "metadata": {},
   "outputs": [
    {
     "name": "stdout",
     "output_type": "stream",
     "text": [
      "Optimization terminated successfully.\n",
      "         Current function value: 0.000013\n",
      "         Iterations: 4\n",
      "         Function evaluations: 17\n",
      "         Gradient evaluations: 17\n",
      "Warning: Maximum number of iterations has been exceeded.\n",
      "         Current function value: 0.024832\n",
      "         Iterations: 50\n",
      "         Function evaluations: 154\n",
      "         Gradient evaluations: 154\n",
      "Warning: Maximum number of iterations has been exceeded.\n",
      "         Current function value: 0.065204\n",
      "         Iterations: 50\n",
      "         Function evaluations: 133\n",
      "         Gradient evaluations: 133\n",
      "Warning: Maximum number of iterations has been exceeded.\n",
      "         Current function value: 0.079282\n",
      "         Iterations: 50\n",
      "         Function evaluations: 126\n",
      "         Gradient evaluations: 126\n",
      "Warning: Maximum number of iterations has been exceeded.\n",
      "         Current function value: 0.048613\n",
      "         Iterations: 50\n",
      "         Function evaluations: 131\n",
      "         Gradient evaluations: 131\n",
      "Warning: Maximum number of iterations has been exceeded.\n",
      "         Current function value: 0.086881\n",
      "         Iterations: 50\n",
      "         Function evaluations: 107\n",
      "         Gradient evaluations: 107\n",
      "Warning: Maximum number of iterations has been exceeded.\n",
      "         Current function value: 0.035996\n",
      "         Iterations: 50\n",
      "         Function evaluations: 144\n",
      "         Gradient evaluations: 144\n",
      "Warning: Maximum number of iterations has been exceeded.\n",
      "         Current function value: 0.045486\n",
      "         Iterations: 50\n",
      "         Function evaluations: 130\n",
      "         Gradient evaluations: 130\n",
      "Warning: Maximum number of iterations has been exceeded.\n",
      "         Current function value: 0.113740\n",
      "         Iterations: 50\n",
      "         Function evaluations: 101\n",
      "         Gradient evaluations: 101\n",
      "Warning: Maximum number of iterations has been exceeded.\n",
      "         Current function value: 0.098962\n",
      "         Iterations: 50\n",
      "         Function evaluations: 106\n",
      "         Gradient evaluations: 106\n"
     ]
    }
   ],
   "source": [
    "lmbda = 0.1\n",
    "k = 10\n",
    "theta = np.zeros((k,n)) #inital parameters\n",
    "for i in range(k):\n",
    "    digit_class = i if i else 10\n",
    "    theta[i] = opt.fmin_cg(f = costFunction, x0 = theta[i],  fprime = gradDescent, args = (x_tr, (y_tr == digit_class).flatten(), lmbda), maxiter = 50)"
   ]
  },
  {
   "cell_type": "code",
   "execution_count": 41,
   "metadata": {},
   "outputs": [
    {
     "name": "stdout",
     "output_type": "stream",
     "text": [
      "82.72833333333334\n"
     ]
    }
   ],
   "source": [
    "pred = np.argmax(x_tr @ theta.T, axis = 1)\n",
    "pred = [e if e else 10 for e in pred]\n",
    "accuracy = np.mean(pred == y_tr.flatten()) * 100\n",
    "print(accuracy)"
   ]
  },
  {
   "cell_type": "code",
   "execution_count": 29,
   "metadata": {},
   "outputs": [],
   "source": [
    "def logistic_regression(x, y,alpha=0.05,lamda=0): \n",
    "    ''' \n",
    "    Logistic regression for datasets \n",
    "    ''' \n",
    "    m,n=np.shape(x) \n",
    "    theta=np.ones(n) \n",
    "    xTrans = x.transpose() \n",
    "    oldcost=0.0 \n",
    "    value=True \n",
    "    while(value): \n",
    "        hypothesis = np.dot(x, theta) \n",
    "        logistic=hypothesis/(np.exp(-hypothesis)+1) \n",
    "        reg = (lamda/2*m)*np.sum(np.power(theta,2)) \n",
    "        loss = logistic - y \n",
    "        cost = np.sum(loss ** 2) \n",
    "     #print(cost) \n",
    "     # avg cost per example (the 2 in 2*m doesn't really matter here. \n",
    "     # But to be consistent with the gradient, I include it) \n",
    "     # avg gradient per example \n",
    "        gradient = np.dot(xTrans, loss)/m \n",
    "     # update \n",
    "        if(reg): \n",
    "            cost=cost+reg \n",
    "            theta = (theta - (alpha) * (gradient+reg)) \n",
    "        else: \n",
    "            theta=theta -(alpha/m) * gradient \n",
    "        if(oldcost==cost): \n",
    "            value=False \n",
    "        else: \n",
    "            oldcost=cost \n",
    "    print(accuracy(theta,m,y,x)) \n",
    "    return theta,accuracy(\n",
    "         theta,m,y,x) "
   ]
  },
  {
   "cell_type": "code",
   "execution_count": null,
   "metadata": {},
   "outputs": [],
   "source": [
    "logistic_regression(x_tr, y_tr, alpha=0.05, lamda=0) "
   ]
  },
  {
   "cell_type": "code",
   "execution_count": null,
   "metadata": {},
   "outputs": [],
   "source": []
  }
 ],
 "metadata": {
  "kernelspec": {
   "display_name": "Python 3",
   "language": "python",
   "name": "python3"
  },
  "language_info": {
   "codemirror_mode": {
    "name": "ipython",
    "version": 3
   },
   "file_extension": ".py",
   "mimetype": "text/x-python",
   "name": "python",
   "nbconvert_exporter": "python",
   "pygments_lexer": "ipython3",
   "version": "3.6.8"
  }
 },
 "nbformat": 4,
 "nbformat_minor": 2
}
